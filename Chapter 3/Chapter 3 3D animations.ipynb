{
  "cells": [
    {
      "cell_type": "markdown",
      "metadata": {},
      "source": [
        "# Chapter 3: 3D Animations\n",
        "\n",
        "In this chapter, we'll explore 3D animations in Manim. We'll learn how to:\n",
        "1. Define a 3D scene using `ThreeDScene`.\n",
        "2. Create and visualize `3D Mobjects`.\n",
        "3. Use the `3D camera` (e.g., rotate the camera).\n",
        "4. Rotate a function graph to form a `surface`.\n",
        "\n",
        "We will also illustrate several examples to show the power of 3D animations in Manim."
      ]
    },
    {
      "cell_type": "code",
      "execution_count": 3,
      "metadata": {},
      "outputs": [],
      "source": [
        "from manim import *\n",
        "config.media_width = \"75%\"\n",
        "config.verbosity = \"WARNING\""
      ]
    },
    {
      "cell_type": "markdown",
      "metadata": {},
      "source": [
        "## 3.1 Setting Up a 3D Scene\n",
        "\n",
        "To work in 3D, Manim provides a specialized scene class called **`ThreeDScene`**. It sets up a camera that supports 3D transformations and the ability to change the camera orientation.\n",
        "\n",
        "Below is the example of creating a 3D scene we seen in Chapter 0."
      ]
    },
    {
      "cell_type": "code",
      "execution_count": null,
      "metadata": {},
      "outputs": [
        {
          "data": {
            "text/html": [
              "<pre style=\"white-space:pre;overflow-x:auto;line-height:normal;font-family:Menlo,'DejaVu Sans Mono',consolas,'Courier New',monospace\">Manim Community <span style=\"color: #008000; text-decoration-color: #008000\">v0.19.0</span>\n",
              "\n",
              "</pre>\n"
            ],
            "text/plain": [
              "Manim Community \u001b[32mv0.\u001b[0m\u001b[32m19.0\u001b[0m\n",
              "\n"
            ]
          },
          "metadata": {},
          "output_type": "display_data"
        },
        {
          "name": "stderr",
          "output_type": "stream",
          "text": [
            "                                                                                                \r"
          ]
        },
        {
          "data": {
            "text/html": [
              "<video src=\"media\\jupyter\\demo@2025-07-02@11-29-51.mp4\" controls autoplay loop style=\"max-width: 75%;\"  >\n",
              "      Your browser does not support the <code>video</code> element.\n",
              "    </video>"
            ],
            "text/plain": [
              "<IPython.core.display.Video object>"
            ]
          },
          "metadata": {},
          "output_type": "display_data"
        }
      ],
      "source": [
        "%%manim -qm demo\n",
        "\n",
        "class demo(ThreeDScene): # 3D Scene\n",
        "    def construct(self):\n",
        "        cube = Cube(side_length=3, fill_opacity=1)\n",
        "        sphere = Sphere(radius=3, fill_opacity=1, color=BLUE)\n",
        "        self.begin_ambient_camera_rotation(rate=0.3)\n",
        "\n",
        "        self.set_camera_orientation(phi= 45 * DEGREES, theta= 45 * DEGREES)\n",
        "        # phi is the vertical angle, and theta is the horizontal angle\n",
        "\n",
        "        self.play(Write(cube), run_time=2)\n",
        "\n",
        "        self.wait(3)\n",
        "        \n",
        "        self.play(Transform(cube, sphere), run_time=2)\n",
        "\n",
        "        self.play(Unwrite(cube), run_time=2) # Why do we unwrite the cube (not sphere)? Hint: Transform VS ReplacementTransform"
      ]
    },
    {
      "cell_type": "markdown",
      "metadata": {},
      "source": [
        "Explanation:\n",
        "- `self.set_camera_orientation(phi, theta)` sets the vertical (phi) and horizontal (theta) angles of the camera.\n",
        "- `self.begin_ambient_camera_rotation(rate=0.3)` is a convenience method that keeps rotating the camera at a fixed rate.\n",
        "\n",
        "You may notice at the last line of code, we unwrite the `cube` Mobject, but what we actually unwrite is `sphere`. Here lies an important point, recall this line of code:\n",
        "```py\n",
        "self.play(Transform(cube, sphere), run_time=2)\n",
        "```\n",
        "The `Transform` method did not vanish the `cube` Mobject, it just transformed it into `sphere`. So, when we call the method `self.unwrite(cube)`, what we actually unwrite is `sphere`."
      ]
    },
    {
      "cell_type": "markdown",
      "metadata": {},
      "source": [
        "## 3.2 Creating a 3D Mobject\n",
        "\n",
        "Manim provides several built-in 3D shapes, such as `Cube`, `Sphere`, `Cone`, etc. Below is an example of drawing a red `Cube` and a green `Sphere`."
      ]
    },
    {
      "cell_type": "code",
      "execution_count": null,
      "metadata": {},
      "outputs": [],
      "source": [
        "%%manim -qm Show3DObjects\n",
        "\n",
        "class Show3DObjects(ThreeDScene):\n",
        "    def construct(self):\n",
        "        self.set_camera_orientation(phi=70 * DEGREES, theta=45 * DEGREES)\n",
        "\n",
        "        # Create a cube and a sphere\n",
        "        cube = Cube(\n",
        "            side_length=2.0,\n",
        "            fill_opacity=1.0,\n",
        "            fill_color=RED,\n",
        "            stroke_width=0.5,\n",
        "        )\n",
        "        # default origin is at the center, let's shift cube to the left.\n",
        "        cube.shift(LEFT*2)\n",
        "\n",
        "        sphere = Sphere(\n",
        "            radius=1.2,\n",
        "            color=GREEN,\n",
        "            fill_opacity=0.8,\n",
        "        )\n",
        "        sphere.shift(RIGHT*2)\n",
        "\n",
        "        # Animate the creation\n",
        "        self.play(Create(cube))\n",
        "        self.play(Create(sphere))\n",
        "        self.wait(2)\n",
        "\n",
        "        # Now rotate the camera around to see them from another angle.\n",
        "        self.move_camera(phi=60*DEGREES, theta=110*DEGREES, run_time=3)\n",
        "        self.wait(1)\n",
        "\n",
        "        self.play(FadeOut(cube), FadeOut(sphere))\n",
        "        self.wait()"
      ]
    },
    {
      "cell_type": "markdown",
      "metadata": {},
      "source": [
        "Explanation:\n",
        "- **`Cube`** and **`Sphere`** are typical 3D Mobjects. We can set their color, opacity, stroke, etc.\n",
        "- You may check out other shapes like **`Cone`**, **`Cylinder`**, **`Torus`**, etc.\n",
        "- We used **`move_camera`** to revolve the camera from `(phi=70°,theta=45°)` to `(phi=60°,theta=110°)`.\n"
      ]
    },
    {
      "cell_type": "markdown",
      "metadata": {},
      "source": [
        "It's worth mentioning that you can also put 2D Mobjects in a 3D scene.\n",
        "\n",
        "Remark: for 3D axes movements, the commands are\n",
        "- **`OUT`**: [0,0,1]\n",
        "- **`IN`**: [0,0,-1]\n",
        "- **`UP`**: [0,1,0]\n",
        "- **`DOWN`**: [0,-1,0]\n",
        "- **`LEFT`**: [-1,0,0]\n",
        "- **`RIGHT`**: [1,0,0]"
      ]
    },
    {
      "cell_type": "code",
      "execution_count": null,
      "metadata": {},
      "outputs": [
        {
          "data": {
            "text/html": [
              "<pre style=\"white-space:pre;overflow-x:auto;line-height:normal;font-family:Menlo,'DejaVu Sans Mono',consolas,'Courier New',monospace\">Manim Community <span style=\"color: #008000; text-decoration-color: #008000\">v0.19.0</span>\n",
              "\n",
              "</pre>\n"
            ],
            "text/plain": [
              "Manim Community \u001b[32mv0.\u001b[0m\u001b[32m19.0\u001b[0m\n",
              "\n"
            ]
          },
          "metadata": {},
          "output_type": "display_data"
        },
        {
          "name": "stderr",
          "output_type": "stream",
          "text": [
            "                                                                                       \r"
          ]
        },
        {
          "data": {
            "text/html": [
              "<video src=\"media\\jupyter\\Animate2DIn3DScene@2025-07-02@16-47-06.mp4\" controls autoplay loop style=\"max-width: 75%;\"  >\n",
              "      Your browser does not support the <code>video</code> element.\n",
              "    </video>"
            ],
            "text/plain": [
              "<IPython.core.display.Video object>"
            ]
          },
          "metadata": {},
          "output_type": "display_data"
        }
      ],
      "source": [
        "%%manim -qm Animate2DIn3DScene\n",
        "\n",
        "class Animate2DIn3DScene(ThreeDScene):\n",
        "    def construct(self):\n",
        "        self.set_camera_orientation(phi=75 * DEGREES, theta=-45 * DEGREES)\n",
        "        self.begin_ambient_camera_rotation(rate=0.3)\n",
        "        \n",
        "        axes = ThreeDAxes(\n",
        "            x_range=(-4, 4, 1),\n",
        "            y_range=(-4, 4, 1),\n",
        "            z_range=(-3, 3, 1),\n",
        "            x_length=8,\n",
        "            y_length=8,\n",
        "            z_length=6,\n",
        "        )\n",
        "        self.add(axes)\n",
        "\n",
        "        square = Square(side_length=2, color=BLUE, fill_opacity=0.7)\n",
        "        self.add(square)\n",
        "        self.wait(0.5)\n",
        "\n",
        "        self.play(square.animate.shift(OUT * 1), run_time=2)\n",
        "        self.wait(0.5)\n",
        "        \n",
        "        self.play(square.animate.shift(IN * 1), run_time=2)\n",
        "        self.wait(0.5)\n",
        "\n",
        "        self.play(square.animate.shift(UP * 1), run_time=2)\n",
        "        self.wait(0.5)\n",
        "\n",
        "        self.play(square.animate.shift(DOWN * 1), run_time=2)\n",
        "        self.wait(0.5)\n",
        "\n",
        "        self.play(square.animate.shift(LEFT * 1), run_time=2)\n",
        "        self.wait(0.5)\n",
        "\n",
        "        self.play(square.animate.shift(RIGHT * 1), run_time=2)\n",
        "        self.wait(0.5)"
      ]
    },
    {
      "cell_type": "markdown",
      "metadata": {},
      "source": [
        "The following examples are rather complicated, we use it only to demonstrate the possibility of combining value trackers and 3D Mobjects in animations."
      ]
    },
    {
      "cell_type": "code",
      "execution_count": null,
      "metadata": {},
      "outputs": [
        {
          "data": {
            "text/html": [
              "<pre style=\"white-space:pre;overflow-x:auto;line-height:normal;font-family:Menlo,'DejaVu Sans Mono',consolas,'Courier New',monospace\">Manim Community <span style=\"color: #008000; text-decoration-color: #008000\">v0.19.0</span>\n",
              "\n",
              "</pre>\n"
            ],
            "text/plain": [
              "Manim Community \u001b[32mv0.\u001b[0m\u001b[32m19.0\u001b[0m\n",
              "\n"
            ]
          },
          "metadata": {},
          "output_type": "display_data"
        },
        {
          "name": "stderr",
          "output_type": "stream",
          "text": [
            "                                                                                                       \r"
          ]
        },
        {
          "data": {
            "text/html": [
              "<video src=\"media\\jupyter\\ParaboloidContourScene@2025-07-02@16-58-28.mp4\" controls autoplay loop style=\"max-width: 75%;\"  >\n",
              "      Your browser does not support the <code>video</code> element.\n",
              "    </video>"
            ],
            "text/plain": [
              "<IPython.core.display.Video object>"
            ]
          },
          "metadata": {},
          "output_type": "display_data"
        }
      ],
      "source": [
        "%%manim -qm ParaboloidContourScene\n",
        "\n",
        "class ParaboloidContourScene(ThreeDScene):\n",
        "\n",
        "    def construct(self):\n",
        "\n",
        "        self.set_camera_orientation(phi=75 * DEGREES, theta=30 * DEGREES)\n",
        "\n",
        "\n",
        "        axes_3d = ThreeDAxes(\n",
        "            x_range=[-3, 3, 1],\n",
        "            y_range=[-3, 3, 1],\n",
        "            z_range=[0, 5, 1],\n",
        "            x_length=6,\n",
        "            y_length=6,\n",
        "            z_length=5,\n",
        "        ).shift(LEFT * 3.5)\n",
        "\n",
        "        paraboloid = Surface(\n",
        "            lambda u, v: axes_3d.c2p(\n",
        "                u * np.cos(v),\n",
        "                u * np.sin(v),\n",
        "                u**2\n",
        "            ),\n",
        "            u_range=[0, np.sqrt(5)],\n",
        "            v_range=[0, TAU],\n",
        "            checkerboard_colors=[BLUE_D, BLUE_E],\n",
        "            resolution=(15, 32)\n",
        "        )\n",
        "\n",
        "        axes_2d = Axes(\n",
        "            x_range=[-3, 3, 1],\n",
        "            y_range=[-3, 3, 1],\n",
        "            x_length=5,\n",
        "            y_length=5,\n",
        "            axis_config={\"include_tip\": False}\n",
        "        ).shift(RIGHT * 3.5)\n",
        "        \n",
        "        labels_2d = axes_2d.get_axis_labels(x_label=\"x\", y_label=\"y\")\n",
        "\n",
        "\n",
        "        z_tracker = ValueTracker(4)\n",
        "\n",
        "        cutting_plane = always_redraw(\n",
        "            lambda: Surface(\n",
        "                lambda u, v: np.array([u, v, z_tracker.get_value()]),\n",
        "                u_range=[-3, 3],\n",
        "                v_range=[-3, 3],\n",
        "                resolution=(1, 1),\n",
        "                fill_opacity=0.5,\n",
        "                fill_color=GREEN,\n",
        "            ).move_to(axes_3d.get_origin() + OUT * z_tracker.get_value())\n",
        "        )\n",
        "\n",
        "        intersection_3d = always_redraw(\n",
        "            lambda: ParametricFunction(\n",
        "                lambda t: axes_3d.c2p(\n",
        "                    np.sqrt(z_tracker.get_value()) * np.cos(t),\n",
        "                    np.sqrt(z_tracker.get_value()) * np.sin(t),\n",
        "                    z_tracker.get_value(),\n",
        "                ),\n",
        "                t_range=[0, TAU],\n",
        "                color=YELLOW,\n",
        "                stroke_width=5,\n",
        "            ) if z_tracker.get_value() >= 0 else VMobject()\n",
        "        )\n",
        "        \n",
        "        contour_2d = always_redraw(\n",
        "            lambda: Circle(\n",
        "    \n",
        "                radius = axes_2d.x_axis.get_unit_size() * np.sqrt(z_tracker.get_value()),\n",
        "                color=YELLOW,\n",
        "                stroke_width=5\n",
        "            ).move_to(axes_2d.c2p(0, 0)) if z_tracker.get_value() >= 0 else VMobject()\n",
        "        )\n",
        "\n",
        "        self.play(Create(axes_3d), Create(paraboloid), run_time=2)\n",
        "        self.add(cutting_plane, intersection_3d)\n",
        "        self.wait(1)\n",
        "\n",
        "        self.play(\n",
        "            Create(axes_2d),\n",
        "            Create(labels_2d)\n",
        "        )\n",
        "        self.add(contour_2d)\n",
        "        self.wait(1)\n",
        "\n",
        "        self.play(\n",
        "            z_tracker.animate.set_value(0.01), \n",
        "            run_time=5,\n",
        "            rate_func=linear\n",
        "        )\n",
        "        self.wait(0.5)\n",
        "\n",
        "        self.play(\n",
        "            z_tracker.animate.set_value(4.5),\n",
        "            run_time=5,\n",
        "            rate_func=linear\n",
        "        )\n",
        "        self.wait(1)\n",
        "        self.wait(2)"
      ]
    },
    {
      "cell_type": "code",
      "execution_count": null,
      "metadata": {},
      "outputs": [
        {
          "data": {
            "text/html": [
              "<pre style=\"white-space:pre;overflow-x:auto;line-height:normal;font-family:Menlo,'DejaVu Sans Mono',consolas,'Courier New',monospace\">Manim Community <span style=\"color: #008000; text-decoration-color: #008000\">v0.19.0</span>\n",
              "\n",
              "</pre>\n"
            ],
            "text/plain": [
              "Manim Community \u001b[32mv0.\u001b[0m\u001b[32m19.0\u001b[0m\n",
              "\n"
            ]
          },
          "metadata": {},
          "output_type": "display_data"
        },
        {
          "name": "stderr",
          "output_type": "stream",
          "text": [
            "                                                                                                                \r"
          ]
        },
        {
          "data": {
            "text/html": [
              "<video src=\"media\\jupyter\\EarthMoonSystemScene@2025-07-02@17-11-09.mp4\" controls autoplay loop style=\"max-width: 75%;\"  >\n",
              "      Your browser does not support the <code>video</code> element.\n",
              "    </video>"
            ],
            "text/plain": [
              "<IPython.core.display.Video object>"
            ]
          },
          "metadata": {},
          "output_type": "display_data"
        }
      ],
      "source": [
        "%%manim -qm EarthMoonSystemScene\n",
        "\n",
        "class EarthMoonSystemScene(ThreeDScene):\n",
        "    def construct(self):\n",
        "        self.set_camera_orientation(phi=75 * DEGREES, theta=30 * DEGREES, zoom=1)\n",
        "        title = Text(\"Revolution: Earth, Moon, and Sun\").to_edge(UP)\n",
        "        self.add_fixed_in_frame_mobjects(title)\n",
        "        self.play(Write(title))\n",
        "\n",
        "        sun = Sphere(center=ORIGIN, radius=0.8, resolution=(24, 24)).set_color(ORANGE)\n",
        "\n",
        "        earth_orbit_radius = 5.0\n",
        "        earth_orbit_path = Circle(radius=earth_orbit_radius, color=GREY, stroke_width=2)\n",
        "\n",
        "        earth = Sphere(radius=0.3, resolution=(16, 16)).set_color(BLUE_D)\n",
        "\n",
        "        moon_orbit_radius = 1.2\n",
        "        moon_orbit_path = Circle(radius=moon_orbit_radius, color=DARK_GREY, stroke_width=1)\n",
        "        \n",
        "        moon = Sphere(radius=0.1, resolution=(12, 12)).set_color(LIGHT_GREY)\n",
        "\n",
        "        earth_rev_angle = ValueTracker(0)\n",
        "        moon_rev_angle = ValueTracker(0)\n",
        "\n",
        "        def earth_updater(mob):\n",
        "            angle = earth_rev_angle.get_value()\n",
        "            new_position = np.array([\n",
        "                earth_orbit_radius * np.cos(angle),\n",
        "                earth_orbit_radius * np.sin(angle),\n",
        "                0\n",
        "            ])\n",
        "            mob.move_to(new_position)\n",
        "\n",
        "        def moon_updater(mob):\n",
        "            earth_center = earth.get_center()\n",
        "            angle = moon_rev_angle.get_value()\n",
        "            relative_position = np.array([\n",
        "                moon_orbit_radius * np.cos(angle),\n",
        "                moon_orbit_radius * np.sin(angle),\n",
        "                0\n",
        "            ])\n",
        "            \n",
        "            mob.move_to(earth_center + relative_position)\n",
        "\n",
        "        def moon_orbit_path_updater(mob):\n",
        "            mob.move_to(earth.get_center())\n",
        "\n",
        "        earth.add_updater(earth_updater)\n",
        "        moon.add_updater(moon_updater)\n",
        "        moon_orbit_path.add_updater(moon_orbit_path_updater)\n",
        "        \n",
        "        self.play(Create(sun), Create(earth_orbit_path), run_time=2)\n",
        "\n",
        "        self.add(earth, moon, moon_orbit_path)\n",
        "        self.play(FadeIn(earth), FadeIn(moon), FadeIn(moon_orbit_path))\n",
        "        self.wait(0.5)\n",
        "\n",
        "        self.play(\n",
        "            earth_rev_angle.animate.set_value(2 * PI),\n",
        "                moon_rev_angle.animate.set_value(12 * PI),\n",
        "                rate_func=linear,\n",
        "                run_time=12\n",
        "        )\n",
        "\n",
        "        earth.clear_updaters()\n",
        "        moon.clear_updaters()\n",
        "        moon_orbit_path.clear_updaters()\n",
        "        self.wait(2)"
      ]
    },
    {
      "cell_type": "markdown",
      "metadata": {},
      "source": [
        "## 3.3 Using the 3D Camera\n",
        "\n",
        "We've already seen a bit of camera usage (like `move_camera`). 3D camera usage typically involves changing:\n",
        "- The angles `phi` (vertical angle) and `theta` (horizontal rotation).\n",
        "- The `zoom` or `distance` for perspective.\n",
        "- The `focal distance` or orthographic vs perspective mode.\n",
        "\n",
        "Below is an example focusing on the camera transitions alone. We'll see how to animate multiple camera perspectives in one go."
      ]
    },
    {
      "cell_type": "code",
      "execution_count": null,
      "metadata": {},
      "outputs": [
        {
          "data": {
            "text/html": [
              "<pre style=\"white-space:pre;overflow-x:auto;line-height:normal;font-family:Menlo,'DejaVu Sans Mono',consolas,'Courier New',monospace\">Manim Community <span style=\"color: #008000; text-decoration-color: #008000\">v0.19.0</span>\n",
              "\n",
              "</pre>\n"
            ],
            "text/plain": [
              "Manim Community \u001b[32mv0.\u001b[0m\u001b[32m19.0\u001b[0m\n",
              "\n"
            ]
          },
          "metadata": {},
          "output_type": "display_data"
        },
        {
          "name": "stderr",
          "output_type": "stream",
          "text": [
            "                                                                                                \r"
          ]
        },
        {
          "data": {
            "text/html": [
              "<video src=\"media\\jupyter\\CameraDemo@2025-07-02@17-23-57.mp4\" controls autoplay loop style=\"max-width: 75%;\"  >\n",
              "      Your browser does not support the <code>video</code> element.\n",
              "    </video>"
            ],
            "text/plain": [
              "<IPython.core.display.Video object>"
            ]
          },
          "metadata": {},
          "output_type": "display_data"
        }
      ],
      "source": [
        "%%manim -qm CameraDemo\n",
        "\n",
        "class CameraDemo(ThreeDScene):\n",
        "    def construct(self):\n",
        "        # Initial camera orientation\n",
        "        self.set_camera_orientation(phi=45 * DEGREES, theta=-45 * DEGREES)\n",
        "\n",
        "        axes = ThreeDAxes()\n",
        "        self.play(Create(axes))\n",
        "        self.wait(1)\n",
        "\n",
        "        # Move camera to a top-down view with move_camera (instead of camera.animate)\n",
        "        self.move_camera(\n",
        "                phi=80*DEGREES,\n",
        "                theta=0*DEGREES,\n",
        "                run_time=3\n",
        "            )\n",
        "        self.wait(1)\n",
        "\n",
        "        # Pan the camera around to another angle\n",
        "        self.move_camera(\n",
        "                phi=60*DEGREES,\n",
        "                theta=90*DEGREES,\n",
        "                run_time=3\n",
        "            )\n",
        "\n",
        "        self.wait(2)\n",
        "        self.play(FadeOut(axes))\n",
        "        self.wait()"
      ]
    },
    {
      "cell_type": "markdown",
      "metadata": {},
      "source": [
        "Explanation:\n",
        "- **`ThreeDAxes`** is a quick way to create X, Y, Z axes in 3D.\n",
        "- We used **`set_euler_angles`** on **`self.camera`** to do camera movements. Alternatively, `move_camera` can do a similar job with phi/theta arguments.\n",
        "- This demonstrates how you can do multi-step camera transitions in a single 3D scene."
      ]
    },
    {
      "cell_type": "markdown",
      "metadata": {},
      "source": [
        "The following exmple shows how to zoom in and out using the camera."
      ]
    },
    {
      "cell_type": "code",
      "execution_count": null,
      "metadata": {},
      "outputs": [
        {
          "data": {
            "text/html": [
              "<pre style=\"white-space:pre;overflow-x:auto;line-height:normal;font-family:Menlo,'DejaVu Sans Mono',consolas,'Courier New',monospace\">Manim Community <span style=\"color: #008000; text-decoration-color: #008000\">v0.19.0</span>\n",
              "\n",
              "</pre>\n"
            ],
            "text/plain": [
              "Manim Community \u001b[32mv0.\u001b[0m\u001b[32m19.0\u001b[0m\n",
              "\n"
            ]
          },
          "metadata": {},
          "output_type": "display_data"
        },
        {
          "name": "stderr",
          "output_type": "stream",
          "text": [
            "                                                                                                                 \r"
          ]
        },
        {
          "data": {
            "text/html": [
              "<video src=\"media\\jupyter\\CameraDistanceExample@2025-07-02@17-54-08.mp4\" controls autoplay loop style=\"max-width: 75%;\"  >\n",
              "      Your browser does not support the <code>video</code> element.\n",
              "    </video>"
            ],
            "text/plain": [
              "<IPython.core.display.Video object>"
            ]
          },
          "metadata": {},
          "output_type": "display_data"
        }
      ],
      "source": [
        "%%manim -qm CameraDistanceExample\n",
        "\n",
        "class CameraDistanceExample(ThreeDScene):\n",
        "    def construct(self):\n",
        "        axes = ThreeDAxes()\n",
        "        cube = Cube(side_length=2, fill_opacity=0.8, fill_color=BLUE)\n",
        "\n",
        "        label = Text(\"Initial State: zoom = 1.0\").to_corner(UL)\n",
        "        \n",
        "\n",
        "        self.set_camera_orientation(phi=75 * DEGREES, theta=-45 * DEGREES, zoom=1.0)\n",
        "        self.add(axes, cube)\n",
        "        self.add_fixed_in_frame_mobjects(label)\n",
        "        self.wait(1.5)\n",
        "\n",
        "        self.play(\n",
        "            label.animate.become(Text(\"Zooming Out: zoom = 0.3\").to_corner(UL))\n",
        "        )\n",
        "        \n",
        "        self.move_camera(zoom=0.3, run_time=3)\n",
        "        self.wait(1.5)\n",
        "\n",
        "        self.play(\n",
        "            label.animate.become(Text(\"Zooming In: zoom = 2.0\").to_corner(UL))\n",
        "        )\n",
        "\n",
        "        self.move_camera(zoom=2.0, run_time=3)\n",
        "        self.wait(1.5)\n",
        "        \n",
        "        self.play(\n",
        "            label.animate.become(Text(\"Back to initial state\").to_corner(UL))\n",
        "        )\n",
        "        \n",
        "        self.move_camera(zoom=1.0, run_time=3)\n",
        "        self.wait(2)"
      ]
    },
    {
      "cell_type": "markdown",
      "metadata": {},
      "source": [
        "## 3.4 Rotating a Function Graph to Form a Surface\n",
        "\n",
        "A neat technique in 3D is to **revolve** a function around an axis, forming a surface of revolution. In Manim, you can do this in a couple of ways, but one straightforward approach is to define a parametric surface with a `ParametricSurface` object.\n",
        "\n",
        "For example, consider a function in the XY-plane:  \\( z = f(x) \\). If we revolve it around the X-axis, the resulting surface in 3D can be described by a parametric equation. We'll illustrate that below. We'll revolve a simple shape, like a half-circle function, around the X-axis to form a sphere-ish object, or revolve a parabola for a bowl shape."
      ]
    },
    {
      "cell_type": "code",
      "execution_count": 13,
      "metadata": {},
      "outputs": [
        {
          "data": {
            "text/html": [
              "<pre style=\"white-space:pre;overflow-x:auto;line-height:normal;font-family:Menlo,'DejaVu Sans Mono',consolas,'Courier New',monospace\">Manim Community <span style=\"color: #008000; text-decoration-color: #008000\">v0.19.0</span>\n",
              "\n",
              "</pre>\n"
            ],
            "text/plain": [
              "Manim Community \u001b[32mv0.\u001b[0m\u001b[32m19.0\u001b[0m\n",
              "\n"
            ]
          },
          "metadata": {},
          "output_type": "display_data"
        },
        {
          "name": "stderr",
          "output_type": "stream",
          "text": [
            "                                                                                                      \r"
          ]
        },
        {
          "data": {
            "text/html": [
              "<video src=\"media\\jupyter\\RevolveCurveToSurface@2025-07-02@17-56-08.mp4\" controls autoplay loop style=\"max-width: 75%;\"  >\n",
              "      Your browser does not support the <code>video</code> element.\n",
              "    </video>"
            ],
            "text/plain": [
              "<IPython.core.display.Video object>"
            ]
          },
          "metadata": {},
          "output_type": "display_data"
        }
      ],
      "source": [
        "%%manim -qm RevolveCurveToSurface\n",
        "\n",
        "\n",
        "class RevolveCurveToSurface(ThreeDScene):\n",
        "    def construct(self):\n",
        "        self.set_camera_orientation(phi=70 * DEGREES, theta=-30 * DEGREES)\n",
        "\n",
        "        axes = ThreeDAxes(\n",
        "            x_range=[-1.5,1.5,1],\n",
        "            y_range=[-1.5,1.5,1],\n",
        "            z_range=[-1,1,1],\n",
        "        )\n",
        "        self.play(Create(axes))\n",
        "\n",
        "        # The function we want to revolve around the x-axis:\n",
        "        # z = sqrt(1 - x^2), x in [-1,1].\n",
        "        # We'll revolve about x-axis => (x, r*sin(v), r*cos(v)) with r = sqrt(1 - x^2).\n",
        "        def revolve(u, v):\n",
        "            x = u\n",
        "            r = np.sqrt(1 - u**2)\n",
        "            y = r * np.sin(v)\n",
        "            z = r * np.cos(v)\n",
        "            return np.array([x, y, z])\n",
        "\n",
        "        #  A helper function that returns a Surface covering v in [0, alpha * TAU]\n",
        "        #  This way, alpha ∈ [0,1] effectively sweeps out the surface from 0 to 2π.\n",
        "        def revolve_surface(alpha):\n",
        "            max_v = alpha * TAU\n",
        "            return Surface(\n",
        "                lambda u, v: revolve(u, v),\n",
        "                u_range=[-1, 1],\n",
        "                v_range=[0, max_v],\n",
        "                fill_opacity=0.8,\n",
        "                checkerboard_colors=[BLUE_D, BLUE_E],\n",
        "                resolution=(24, 48),  # increase for smoother\n",
        "            )\n",
        "\n",
        "        # We use a ValueTracker to animate alpha from 0 -> 1\n",
        "        alpha_tracker = ValueTracker(0)\n",
        "        surface = revolve_surface(alpha_tracker.get_value())\n",
        "\n",
        "        # Updater: re-generate the partial surface each frame\n",
        "        def update_surface(mobj):\n",
        "            alpha = alpha_tracker.get_value()\n",
        "            new_mobj = revolve_surface(alpha)\n",
        "            mobj.become(new_mobj)\n",
        "\n",
        "        surface.add_updater(update_surface)\n",
        "        self.add(surface)\n",
        "        self.wait(1)\n",
        "\n",
        "        # Animate alpha from 0 to 1 over 5 seconds\n",
        "        self.play(alpha_tracker.animate.set_value(1), run_time=5)\n",
        "        self.wait(1)\n",
        "\n",
        "        # move the camera to see the final shape from another angle\n",
        "        self.move_camera(phi=60*DEGREES, theta=70*DEGREES, run_time=3)\n",
        "        self.wait(2)\n",
        "\n",
        "        # Clean up\n",
        "        surface.remove_updater(update_surface)\n",
        "        self.play(FadeOut(surface), FadeOut(axes))\n",
        "        self.wait()"
      ]
    },
    {
      "cell_type": "markdown",
      "metadata": {},
      "source": [
        "Explanation:\n",
        "- We define a parametric function `param_surface(u, v)` that sweeps `u` in the horizontal axis, but rotates `z`-value around the X-axis by angle `v`.\n",
        "- **`ParametricSurface`** renders the mesh with color patterns or a checkerboard pattern.\n",
        "- We can revolve any function you like, or even revolve around different axes with a different param.\n"
      ]
    }
  ],
  "metadata": {
    "kernelspec": {
      "display_name": "manim_env",
      "language": "python",
      "name": "python3"
    },
    "language_info": {
      "codemirror_mode": {
        "name": "ipython",
        "version": 3
      },
      "file_extension": ".py",
      "mimetype": "text/x-python",
      "name": "python",
      "nbconvert_exporter": "python",
      "pygments_lexer": "ipython3",
      "version": "3.10.16"
    },
    "name": "Chapter 3: 3D Animations Tutorial"
  },
  "nbformat": 4,
  "nbformat_minor": 2
}
