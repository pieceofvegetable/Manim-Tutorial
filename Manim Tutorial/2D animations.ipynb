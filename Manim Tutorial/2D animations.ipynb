{
 "cells": [
  {
   "cell_type": "markdown",
   "metadata": {},
   "source": [
    "# Chapter 2: 2D animations"
   ]
  },
  {
   "cell_type": "markdown",
   "metadata": {},
   "source": [
    "## 2.1 Rotating Objects\n",
    "Creating multiple 2D animations may be Manim's greatest strength. It is where Manim can perform huge amount of effects, without being too time consuming. As usual, we should start with importing the library."
   ]
  },
  {
   "cell_type": "code",
   "execution_count": 2,
   "metadata": {},
   "outputs": [
    {
     "ename": "ModuleNotFoundError",
     "evalue": "No module named 'manim'",
     "output_type": "error",
     "traceback": [
      "\u001b[1;31m---------------------------------------------------------------------------\u001b[0m",
      "\u001b[1;31mModuleNotFoundError\u001b[0m                       Traceback (most recent call last)",
      "Cell \u001b[1;32mIn[2], line 1\u001b[0m\n\u001b[1;32m----> 1\u001b[0m \u001b[38;5;28;01mfrom\u001b[39;00m \u001b[38;5;21;01mmanim\u001b[39;00m \u001b[38;5;28;01mimport\u001b[39;00m\u001b[38;5;241m*\u001b[39m\n",
      "\u001b[1;31mModuleNotFoundError\u001b[0m: No module named 'manim'"
     ]
    }
   ],
   "source": [
    "from manim import*"
   ]
  },
  {
   "cell_type": "markdown",
   "metadata": {},
   "source": [
    "The process is similar to text animations, we need to first define the objects that we want to add to the scene, then draw then to the 2D scene, and, possibly, make transformations to them. Let us start with a simple example."
   ]
  },
  {
   "cell_type": "code",
   "execution_count": 1,
   "metadata": {},
   "outputs": [
    {
     "name": "stderr",
     "output_type": "stream",
     "text": [
      "UsageError: Cell magic `%%manim` not found.\n"
     ]
    }
   ],
   "source": [
    "%%manim -qm UseRotate\n",
    "\n",
    "class UseRotate(Scene):\n",
    "    def construct(self):\n",
    "        square1 = Square(side_length=0.5).shift(UP * 2)\n",
    "        square2 = Square(side_length=0.5)\n",
    "        self.play(\n",
    "            Rotate(\n",
    "                square1,\n",
    "                angle=2*PI,\n",
    "                about_point=ORIGIN,\n",
    "                rate_func=linear,\n",
    "            ),\n",
    "            Rotate(square2, angle=2*PI, rate_func=linear),\n",
    "            )"
   ]
  },
  {
   "cell_type": "markdown",
   "metadata": {},
   "source": [
    "Exercise: "
   ]
  },
  {
   "cell_type": "markdown",
   "metadata": {},
   "source": [
    "Here we defined two tiny `Square` objects, and we used the `Rotate` method to rotate them with respect to the center of the scene. This is the a normal case of produciing a 2D animation. However, some specific mathematical objects require special operations, and we should perform their animations under a specific `Scene` type. `VectorScene` is an example.\n",
    "\n",
    "When we are dealing with vectors, we usually want to have a coordinate plane as a reference frame. Therefore, our first step is to add coordinates to the scene."
   ]
  },
  {
   "cell_type": "code",
   "execution_count": null,
   "metadata": {},
   "outputs": [],
   "source": [
    "%%manim -qm Vectors\n",
    "\n",
    "class Vectors(VectorScene):\n",
    "    def construct(self):\n",
    "        self.add_plane(animate = True).add_coordinates()\n",
    "        self.wait()"
   ]
  },
  {
   "cell_type": "markdown",
   "metadata": {},
   "source": [
    "Here we used `add_plane` method to add the blocks to the background, and `add_coordinates` add the coordinate system to the scene.\n",
    "\n",
    "Now, with such coordinate plane, we can define vectors be indicating their coordinates."
   ]
  },
  {
   "cell_type": "code",
   "execution_count": null,
   "metadata": {},
   "outputs": [],
   "source": [
    "%%manim -qm Vectors\n",
    "\n",
    "class Vectors(VectorScene):\n",
    "    def construct(self):\n",
    "        self.add_plane(animate = True).add_coordinates()\n",
    "        self.wait()\n",
    "        \n",
    "        v1 = Vector([1, 2], color=YELLOW)\n",
    "        v2 = Vector([3, -1], color=RED)\n",
    "\n",
    "        self.play(Create(v1))\n",
    "        self.play(Create(v2))"
   ]
  },
  {
   "cell_type": "markdown",
   "metadata": {},
   "source": [
    "Note that here we are still using the `Create` method to add the vectors to the scene. Actually, under `VectorScene`, we have better method that can make the vectors 'grow' from the origin, the `add_vector` method."
   ]
  },
  {
   "cell_type": "code",
   "execution_count": null,
   "metadata": {},
   "outputs": [],
   "source": [
    "%%manim -qm Vectors\n",
    "\n",
    "class Vectors(VectorScene):\n",
    "    def construct(self):\n",
    "        self.add_plane(animate = True).add_coordinates()\n",
    "        self.wait()\n",
    "        \n",
    "        v1 = Vector([1, 2], color=YELLOW)\n",
    "        v2 = Vector([3, -1], color=RED)\n",
    "\n",
    "        self.add_vector(v1)\n",
    "        self.add_vector(v2)"
   ]
  },
  {
   "cell_type": "markdown",
   "metadata": {},
   "source": [
    "Though we give different colors to them, it is always better to give them labels to identify them. There are two ways that we can give labels to the vectors.\n",
    "1. Creating new `MathTex` Mobjects, and place them next to the vectors.\n",
    "2. Using the `label_vector` method.\n",
    "Note that both methods are useful under specific circumstances, we first take a look at the second method.\n",
    "\n",
    "The greatest advantage of the `label_vector` method is its simplicity. You only have to indicate which vector you would like to label, then name the label."
   ]
  },
  {
   "cell_type": "code",
   "execution_count": null,
   "metadata": {},
   "outputs": [],
   "source": [
    "%%manim -qm Vectors\n",
    "\n",
    "class Vectors(VectorScene):\n",
    "    def construct(self):\n",
    "        self.add_plane(animate = True).add_coordinates()\n",
    "        self.wait()\n",
    "        \n",
    "        v1 = Vector([1, 2], color=YELLOW)\n",
    "        v2 = Vector([3, -1], color=RED)\n",
    "\n",
    "        self.add_vector(v1)\n",
    "        self.add_vector(v2)\n",
    "        self.wait()\n",
    "        self.label_vector(v1, '\\\\vec{v}')\n",
    "        self.wait()"
   ]
  },
  {
   "cell_type": "markdown",
   "metadata": {},
   "source": [
    "But simplicity means low operability. The biggest drawback of this method is that if we translate the vector, the label will not follow the vector, but stay at the original position."
   ]
  },
  {
   "cell_type": "code",
   "execution_count": null,
   "metadata": {},
   "outputs": [],
   "source": [
    "%%manim -qm Vectors\n",
    "\n",
    "class Vectors(VectorScene):\n",
    "    def construct(self):\n",
    "        self.add_plane(animate = True).add_coordinates()\n",
    "        self.wait()\n",
    "\n",
    "        v1 = Vector([1, 2], color=YELLOW)\n",
    "        self.add_vector(v1)\n",
    "        self.wait()\n",
    "        \n",
    "        self.label_vector(v1, '\\\\vec{u}')\n",
    "        self.wait()\n",
    "\n",
    "        self.play(v1.animate.shift(2*RIGHT + 1*UP))\n",
    "        self.wait()"
   ]
  },
  {
   "cell_type": "markdown",
   "metadata": {},
   "source": [
    "Here we used `animate.shift` method to translate v1. We have to indicate the moving direction of v1 in the argument bracket.\n",
    "\n",
    "In some circumstances (like right now), it is not what we expected, hence we need to use the first method, that is, defining the labels seperately and create them on the scene."
   ]
  },
  {
   "cell_type": "code",
   "execution_count": null,
   "metadata": {},
   "outputs": [],
   "source": [
    "%%manim -qm Vectors\n",
    "\n",
    "class Vectors(VectorScene):\n",
    "    def construct(self):\n",
    "        self.add_plane(animate = True).add_coordinates()\n",
    "        self.wait()\n",
    "        \n",
    "        v1 = Vector([1, 2], color=YELLOW)\n",
    "        v1_label = MathTex(\"\\\\vec{u}\").next_to(v1, LEFT, buff = 0.0001)\n",
    "        \n",
    "        self.add_vector(v1)\n",
    "        self.play(Create(v1_label))\n",
    "        self.wait()\n"
   ]
  },
  {
   "cell_type": "markdown",
   "metadata": {},
   "source": [
    "Here we defined a `MathTex` Mobject called v1_label, and placed it next to the vector on the left. Note that the `buff` argument is used to control the distance between the label and the object.\n",
    "\n",
    "It is not that now the label will automatically follow the vector's movement, but we can make it do the same movement with the vector."
   ]
  },
  {
   "cell_type": "code",
   "execution_count": null,
   "metadata": {},
   "outputs": [],
   "source": [
    "%%manim -qm Vectors\n",
    "\n",
    "class Vectors(VectorScene):\n",
    "    def construct(self):\n",
    "        self.add_plane(animate = True).add_coordinates()\n",
    "        self.wait()\n",
    "        \n",
    "        v1 = Vector([1, 2], color=YELLOW)\n",
    "        v1_label = MathTex(\"\\\\vec{u}\").next_to(v1, LEFT, buff = 0.0001)\n",
    "        \n",
    "        self.add_vector(v1)\n",
    "        self.play(Create(v1_label))\n",
    "        self.wait()\n",
    "\n",
    "        self.play(\n",
    "          v1.animate.shift(2*RIGHT + 1*UP),\n",
    "          v1_label.animate.shift(2*RIGHT + 1*UP)\n",
    "        )\n",
    "        self.wait()"
   ]
  },
  {
   "cell_type": "markdown",
   "metadata": {},
   "source": [
    "The key point here is that we include two animations within a `self.play()` command, where we moved the vector and its label to the same direction, and at the same time.\n",
    "\n",
    "Sometimes we may want to get the current coordinate of a vector, then we need the `get_vector` method. This will return a `tuple` of the coordinate of the vector. For instance, in the following example, we will use this method to create a new vector by adding up the other two."
   ]
  },
  {
   "cell_type": "code",
   "execution_count": null,
   "metadata": {},
   "outputs": [],
   "source": [
    "%%manim -qm Vectors\n",
    "\n",
    "class Vectors(VectorScene):\n",
    "    def construct(self):\n",
    "        self.add_plane(animate = True).add_coordinates()\n",
    "        self.wait()\n",
    "        \n",
    "        v1 = Vector([1, 2], color=YELLOW)\n",
    "        v2 = Vector([3, -1], color=RED)\n",
    "        v3 = Vector([v1.get_vector()[0] + v2.get_vector()[0], v1.get_vector()[1] + v2.get_vector()[1]], color=BLUE) \n",
    "        \n",
    "        self.add_vector(v1)\n",
    "        self.add_vector(v2)\n",
    "        self.wait()\n",
    "\n",
    "        self.add_vector(v3)\n",
    "        self.wait()"
   ]
  },
  {
   "cell_type": "markdown",
   "metadata": {},
   "source": [
    "With the techniques we learnt above, it is natural to think of create an animation of `vector addition`. Before we dig into the codes, it is always good to make a strategy. Our plan will be as follows:\n",
    "1. Defining three vectors, where v3 is the resultant vector of v1+v2.\n",
    "2. Creating v1 and v2 on the scene, and labeling them with $\\vec{u}$ and $\\vec{v}$.\n",
    "3. Translating v1 so that its tail touches with v2's head.\n",
    "4. Creating the resulting vector v3, and labeling it with $\\vec{u} + \\vec{v}$.\n",
    "It will be boring if we simply showing you the code, since it is a good chance for you to test whether you have handled all the skills you learnt. "
   ]
  },
  {
   "cell_type": "code",
   "execution_count": null,
   "metadata": {},
   "outputs": [],
   "source": [
    "%%manim -qm Vectors\n",
    "\n",
    "class Vectors(VectorScene):\n",
    "    def construct(self):\n",
    "        self.add_plane(animate = True).add_coordinates()\n",
    "        self.wait()\n",
    "        \n",
    "        v1 = Vector([1, 2], color=YELLOW)\n",
    "        v2 = Vector([3, -1], color=RED)\n",
    "        v3 = Vector([v1.get_vector()[0] + v2.get_vector()[0], v1.get_vector()[1] + v2.get_vector()[1]], color=BLUE) \n",
    "        \n",
    "        v1_label = MathTex(\"\\\\vec{u}\").next_to(v1, LEFT, buff = 0.0001)\n",
    "        v2_label = MathTex(\"\\\\vec{v}\").next_to(v2, DOWN, buff = 0.0001)\n",
    "        v3_label = MathTex(\"\\\\vec{u} + \\\\vec{v}\").next_to(v3, UP, buff = 0.0001)\n",
    "\n",
    "        self.add_vector(v1)\n",
    "        self.play(Create(v1_label))\n",
    "        self.wait()\n",
    "\n",
    "        self.add_vector(v2)\n",
    "        self.play(Create(v2_label))\n",
    "        self.wait()\n",
    "        \n",
    "        self.play(\n",
    "          v1.animate.shift(v2.get_vector()[0]*RIGHT + v2.get_vector()[1]*UP),\n",
    "          v1_label.animate.shift(v2.get_vector()[0]*RIGHT + v2.get_vector()[1]*UP)\n",
    "        )\n",
    "        self.wait()\n",
    "\n",
    "        self.add_vector(v3)\n",
    "        self.wait()\n",
    "        self.play(Create(v3_label))\n",
    "        self.wait()"
   ]
  },
  {
   "cell_type": "code",
   "execution_count": null,
   "metadata": {},
   "outputs": [],
   "source": [
    "%%manim -qm functiongraph\n",
    "\n",
    "class functiongraph(Scene):\n",
    "    def construct(self):\n",
    "        func = lambda x: x**2\n",
    "        # Create axes\n",
    "        axes = Axes(\n",
    "            x_range=[-3,3,1],\n",
    "            y_range=[-1, 2, 1],\n",
    "            axis_config={\"color\": BLUE},\n",
    "            x_axis_config={\n",
    "                \"unit_size\": 1.5,\n",
    "                \"include_ticks\": True,\n",
    "                \"include_numbers\": True,\n",
    "                \"numbers_to_include\": [-2,-1,0,1,2],\n",
    "            },\n",
    "            y_axis_config={\n",
    "                \"numbers_to_include\": [0, 1, 2],\n",
    "                \"decimal_number_config\": {\"num_decimal_places\": 0},\n",
    "                \"label_direction\": LEFT,\n",
    "            }\n",
    "        )\n",
    "        axes_labels = axes.get_axis_labels()\n",
    "\n",
    "        # Plot the function\n",
    "        graph = axes.plot(func)\n",
    "\n",
    "        # Animation for the function\n",
    "        self.play(Create(axes), Write(axes_labels))\n",
    "        self.play(Create(graph), run_time=3)\n",
    "        self.wait()"
   ]
  }
 ],
 "metadata": {
  "kernelspec": {
   "display_name": "base",
   "language": "python",
   "name": "python3"
  },
  "language_info": {
   "codemirror_mode": {
    "name": "ipython",
    "version": 3
   },
   "file_extension": ".py",
   "mimetype": "text/x-python",
   "name": "python",
   "nbconvert_exporter": "python",
   "pygments_lexer": "ipython3",
   "version": "3.11.7"
  }
 },
 "nbformat": 4,
 "nbformat_minor": 2
}
