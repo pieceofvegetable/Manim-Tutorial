{
 "cells": [
  {
   "cell_type": "markdown",
   "metadata": {},
   "source": [
    "# Chapter 1: Text Animations"
   ]
  },
  {
   "cell_type": "markdown",
   "metadata": {},
   "source": [
    "## 1.1 Math Text\n",
    "Manim display `Tex` Mobjects using `Latex`, a powerful tool for writing professional math articles. Let us start this section with a simple example. As usual, we have to call in the Manim library."
   ]
  },
  {
   "cell_type": "code",
   "execution_count": 3,
   "metadata": {},
   "outputs": [
    {
     "data": {
      "text/html": [
       "<pre style=\"white-space:pre;overflow-x:auto;line-height:normal;font-family:Menlo,'DejaVu Sans Mono',consolas,'Courier New',monospace\">Manim Community <span style=\"color: #008000; text-decoration-color: #008000\">v0.17.3</span>\n",
       "\n",
       "</pre>\n"
      ],
      "text/plain": [
       "Manim Community \u001b[32mv0.\u001b[0m\u001b[32m17.3\u001b[0m\n",
       "\n"
      ]
     },
     "metadata": {},
     "output_type": "display_data"
    }
   ],
   "source": [
    "from manim import *"
   ]
  },
  {
   "cell_type": "markdown",
   "metadata": {},
   "source": [
    "Then we create our first text animation scene."
   ]
  },
  {
   "cell_type": "code",
   "execution_count": null,
   "metadata": {},
   "outputs": [],
   "source": [
    "%%manim -qm TextAnimation\n",
    "\n",
    "class TextAnimation(Scene):\n",
    "    def construct(self):\n",
    "        text_1 = Tex(r'Be $\\sqrt{-1}$maginative, and nothing will be $\\frac{d}{dx}$ifficult!', color = WHITE, font_size = 50)\n",
    "        self.play(Write(text_1), run_time = 3)\n",
    "        self.wait()"
   ]
  },
  {
   "cell_type": "markdown",
   "metadata": {},
   "source": [
    "Exercise 1: please complete the following code to write the sentence \"My favorite formula is $ e^{i\\pi} + 1 = 0$\" in the scene.\n",
    "\n",
    "You are given the latex code for the Eulers' formula: \n",
    "```\n",
    "$ e^{i\\pi} + 1 = 0$\n",
    "```"
   ]
  },
  {
   "cell_type": "code",
   "execution_count": null,
   "metadata": {},
   "outputs": [],
   "source": [
    "%%manim -qm Exercise1\n",
    "\n",
    "class Exercise1(Scene):\n",
    "    def construct(self):\n",
    "        #define the Tex Mobject here\n",
    "\n",
    "        #write the Mobject to the scene here\n",
    "        \n",
    "        self.wait()"
   ]
  },
  {
   "cell_type": "markdown",
   "metadata": {},
   "source": [
    "## 1.2 Making Title\n",
    "You can see that, by default, the text appears in the center of the screen. We can do some operations to make it looks like a title for our scene, by moving it to the edge."
   ]
  },
  {
   "cell_type": "code",
   "execution_count": null,
   "metadata": {},
   "outputs": [],
   "source": [
    "%%manim -qm MakingATitle\n",
    "\n",
    "class MakingATitle(Scene):\n",
    "    def construct(self):\n",
    "        title = Tex('This is the title', color = WHITE, font_size = 50)\n",
    "        self.play(Write(title), run_time = 2)\n",
    "        self.wait()\n",
    "        self.play(title.animate.to_edge(UP + LEFT, buff=0.5))\n",
    "        self.wait()\n",
    "        text_1 = Tex('Here is the main scene.', color = WHITE, font_size = 50)\n",
    "        self.play(Write(text_1), run_time = 2)\n",
    "        self.wait()"
   ]
  },
  {
   "cell_type": "markdown",
   "metadata": {},
   "source": [
    "The key command we used here is `animate.to_edge()`, which moves the text to the edge of the screen. The first argument controls to moving direction of the text (please spend a minute here to change the directions, eg. DOWN + LEFT, to see different effects), and the `buff` parameter controls the distance between the final position and the edge.\n",
    "\n",
    "Exercise 2: complete the following code to change the moving direction of the title to bottom right corner, make it 2 times bigger, and change the color to blue."
   ]
  },
  {
   "cell_type": "code",
   "execution_count": null,
   "metadata": {},
   "outputs": [],
   "source": [
    "%%manim -qm Exercise2\n",
    "\n",
    "class Exercise2(Scene):\n",
    "    def construct(self):\n",
    "        #3 modifications are required here\n",
    "        title = Tex('This is the title') #1 and 2\n",
    "        self.play(Write(title), run_time = 2)\n",
    "        #3\n",
    "        self.wait()"
   ]
  },
  {
   "cell_type": "markdown",
   "metadata": {},
   "source": [
    "## 1.3 Transformations\n",
    "### 1.3.1 VGroup\n",
    "Now you have your title, let us move on to the main content. One thing that makes Manim's text animation more than simply illustrating text is the transformation technique, which can make the audiance understand the euqations in a more intuitive way.\n",
    "\n",
    "To run this effect, we need to import an extra package (which is written by a big Manim fan), called `GlyphMapDemo`. You can find it on the moodle page, please download it and put it in the same folder as this notebook. Now you should be able to import it by running to following code."
   ]
  },
  {
   "cell_type": "code",
   "execution_count": null,
   "metadata": {},
   "outputs": [],
   "source": [
    "from GlyphMapDemo import *"
   ]
  },
  {
   "cell_type": "markdown",
   "metadata": {},
   "source": [
    "Now let us see what effect it gives to our text."
   ]
  },
  {
   "cell_type": "code",
   "execution_count": null,
   "metadata": {},
   "outputs": [],
   "source": [
    "%%manim -qm MultiplyingBinomials\n",
    "\n",
    "class MultiplyingBinomials(Scene):\n",
    "    def construct(self):\n",
    "        expA = MathTex(\"(x+3)(x+4)\")\n",
    "        expB = MathTex(\"x(x+4) + 3(x+4)\")\n",
    "        expC = MathTex(\"x^2 + 4x + 3x + 12\")\n",
    "        expD = MathTex(\"x^2 + 7x + 12\")\n",
    "\n",
    "        VGroup(expA, expB, expC, expD).arrange(DOWN)\n",
    "        self.add(expA)\n",
    "        self.play(\n",
    "            TransformByGlyphMap(expA, expB,\n",
    "                ([0,4],[]),\n",
    "                ([1],[0]),\n",
    "                ([2], [6]),\n",
    "                ([3], [7]),\n",
    "                ([5,6,7,8,9], [1,2,3,4,5]),\n",
    "                ([5,6,7,8,9], [8,9,10,11,12]),\n",
    "                from_copy=True\n",
    "            )\n",
    "        )\n",
    "        self.wait()\n",
    "        self.play(\n",
    "            TransformByGlyphMap(expB, expC,\n",
    "                ([1,5,8,12], []),\n",
    "                ([0,2], [0,1]),\n",
    "                ([0,4], [3,4]),\n",
    "                ([7,9], [6,7]),\n",
    "                ([7,11], [9,10]),\n",
    "                from_copy=True\n",
    "            )\n",
    "        )\n",
    "        self.wait()\n",
    "        self.play(\n",
    "            TransformByGlyphMap(expC, expD,\n",
    "                ([3,4,5,6,7], [3,4]),\n",
    "\t\t\t\tfrom_copy=True\n",
    "            )\n",
    "        )"
   ]
  },
  {
   "cell_type": "markdown",
   "metadata": {},
   "source": [
    "The code looks long, but actually it only contains three main parts.\n",
    "\n",
    "Part 1: Defining the expressions that we want to animate. A very important remark is that this time we can only use the `MathTex` class since the transformation only works with math expressions (you can not define the expression as exp = Tex(r\" \")).\n",
    "\n",
    "Part 2: Arranging the position of the 3 expressions using `VGroup`. This can be used to group multiple Mobject instances together in order to scale, move, … them together. Here we apply the `arrange()` method to the VGroup to arrange the expressions in a vertical line. Here is a another example of using `VGroup`."
   ]
  },
  {
   "cell_type": "code",
   "execution_count": null,
   "metadata": {},
   "outputs": [],
   "source": [
    "%%manim -qm AddToVGroup\n",
    "\n",
    "class AddToVGroup(Scene):\n",
    "    def construct(self):\n",
    "        circle_red = Circle(color=RED)\n",
    "        circle_green = Circle(color=GREEN)\n",
    "        circle_red.shift(LEFT)\n",
    "        gr = VGroup(circle_red)\n",
    "        gr2 = VGroup(circle_green)\n",
    "        self.add(gr,gr2)\n",
    "        self.wait()\n",
    "        gr += gr2\n",
    "        self.play(\n",
    "            gr.animate.shift(DOWN),\n",
    "        )\n",
    "        gr -= gr2\n",
    "        self.play(\n",
    "            gr.animate.shift(LEFT),\n",
    "            gr2.animate.shift(UP),\n",
    "        )"
   ]
  },
  {
   "cell_type": "markdown",
   "metadata": {},
   "source": [
    "We first define two circles, one red and one green, and put them in two VGroups, `gr` and `gr2`, separately. When we add gr2 to gr, the green circle is added to gr, to now we actually have\n",
    "```py\n",
    "gr == VGroup(red_circle, green_circle)\n",
    "```\n",
    "so when we play the downward moving animation with gr, both circles move together. Then we remove the green circle from gr, hence the two circles do there own movements.\n",
    "\n",
    "Exercise: based on the code shown above, please:\n",
    "1. add a blue circle, located one unit to the right of green circle, and \n",
    "2. move it one unit downwards (together with the other two circles), then one unit to the right.\n",
    "\n",
    "Hint: you should create another VGroup, say, 'gr3', and operate it with the other two."
   ]
  },
  {
   "cell_type": "code",
   "execution_count": 4,
   "metadata": {},
   "outputs": [
    {
     "data": {
      "text/html": [
       "<pre style=\"white-space:pre;overflow-x:auto;line-height:normal;font-family:Menlo,'DejaVu Sans Mono',consolas,'Courier New',monospace\"><span style=\"color: #7fbfbf; text-decoration-color: #7fbfbf\">[06/24/24 10:43:30] </span><span style=\"color: #008000; text-decoration-color: #008000\">INFO    </span> Animation <span style=\"color: #008000; text-decoration-color: #008000\">0</span> : Partial movie file written in                   <a href=\"file://c:\\Users\\likan\\anaconda3\\lib\\site-packages\\manim\\scene\\scene_file_writer.py\" target=\"_blank\"><span style=\"color: #7f7f7f; text-decoration-color: #7f7f7f\">scene_file_writer.py</span></a><span style=\"color: #7f7f7f; text-decoration-color: #7f7f7f\">:</span><a href=\"file://c:\\Users\\likan\\anaconda3\\lib\\site-packages\\manim\\scene\\scene_file_writer.py#527\" target=\"_blank\"><span style=\"color: #7f7f7f; text-decoration-color: #7f7f7f\">527</span></a>\n",
       "<span style=\"color: #7fbfbf; text-decoration-color: #7fbfbf\">                    </span>         <span style=\"color: #008000; text-decoration-color: #008000\">'D:\\Users\\likan\\Desktop\\manim tutorial\\media\\videos\\manim </span>    <span style=\"color: #7f7f7f; text-decoration-color: #7f7f7f\">                        </span>\n",
       "<span style=\"color: #7fbfbf; text-decoration-color: #7fbfbf\">                    </span>         <span style=\"color: #008000; text-decoration-color: #008000\">tutorial\\720p30\\partial_movie_files\\Exercise3\\274514146_18040</span> <span style=\"color: #7f7f7f; text-decoration-color: #7f7f7f\">                        </span>\n",
       "<span style=\"color: #7fbfbf; text-decoration-color: #7fbfbf\">                    </span>         <span style=\"color: #008000; text-decoration-color: #008000\">42621_3084245356.mp4'</span>                                         <span style=\"color: #7f7f7f; text-decoration-color: #7f7f7f\">                        </span>\n",
       "</pre>\n"
      ],
      "text/plain": [
       "\u001b[2;36m[06/24/24 10:43:30]\u001b[0m\u001b[2;36m \u001b[0m\u001b[32mINFO    \u001b[0m Animation \u001b[32m0\u001b[0m : Partial movie file written in                   \u001b]8;id=70902;file://c:\\Users\\likan\\anaconda3\\lib\\site-packages\\manim\\scene\\scene_file_writer.py\u001b\\\u001b[2mscene_file_writer.py\u001b[0m\u001b]8;;\u001b\\\u001b[2m:\u001b[0m\u001b]8;id=575351;file://c:\\Users\\likan\\anaconda3\\lib\\site-packages\\manim\\scene\\scene_file_writer.py#527\u001b\\\u001b[2m527\u001b[0m\u001b]8;;\u001b\\\n",
       "\u001b[2;36m                    \u001b[0m         \u001b[32m'D:\\Users\\likan\\Desktop\\manim tutorial\\media\\videos\\manim \u001b[0m    \u001b[2m                        \u001b[0m\n",
       "\u001b[2;36m                    \u001b[0m         \u001b[32mtutorial\\720p30\\partial_movie_files\\Exercise3\\274514146_18040\u001b[0m \u001b[2m                        \u001b[0m\n",
       "\u001b[2;36m                    \u001b[0m         \u001b[32m42621_3084245356.mp4'\u001b[0m                                         \u001b[2m                        \u001b[0m\n"
      ]
     },
     "metadata": {},
     "output_type": "display_data"
    },
    {
     "name": "stderr",
     "output_type": "stream",
     "text": [
      "                                                                                                       \r"
     ]
    },
    {
     "data": {
      "text/html": [
       "<pre style=\"white-space:pre;overflow-x:auto;line-height:normal;font-family:Menlo,'DejaVu Sans Mono',consolas,'Courier New',monospace\"><span style=\"color: #7fbfbf; text-decoration-color: #7fbfbf\">[06/24/24 10:43:31] </span><span style=\"color: #008000; text-decoration-color: #008000\">INFO    </span> Animation <span style=\"color: #008000; text-decoration-color: #008000\">1</span> : Partial movie file written in                   <a href=\"file://c:\\Users\\likan\\anaconda3\\lib\\site-packages\\manim\\scene\\scene_file_writer.py\" target=\"_blank\"><span style=\"color: #7f7f7f; text-decoration-color: #7f7f7f\">scene_file_writer.py</span></a><span style=\"color: #7f7f7f; text-decoration-color: #7f7f7f\">:</span><a href=\"file://c:\\Users\\likan\\anaconda3\\lib\\site-packages\\manim\\scene\\scene_file_writer.py#527\" target=\"_blank\"><span style=\"color: #7f7f7f; text-decoration-color: #7f7f7f\">527</span></a>\n",
       "<span style=\"color: #7fbfbf; text-decoration-color: #7fbfbf\">                    </span>         <span style=\"color: #008000; text-decoration-color: #008000\">'D:\\Users\\likan\\Desktop\\manim tutorial\\media\\videos\\manim </span>    <span style=\"color: #7f7f7f; text-decoration-color: #7f7f7f\">                        </span>\n",
       "<span style=\"color: #7fbfbf; text-decoration-color: #7fbfbf\">                    </span>         <span style=\"color: #008000; text-decoration-color: #008000\">tutorial\\720p30\\partial_movie_files\\Exercise3\\2789044632_3578</span> <span style=\"color: #7f7f7f; text-decoration-color: #7f7f7f\">                        </span>\n",
       "<span style=\"color: #7fbfbf; text-decoration-color: #7fbfbf\">                    </span>         <span style=\"color: #008000; text-decoration-color: #008000\">452479_4067559736.mp4'</span>                                        <span style=\"color: #7f7f7f; text-decoration-color: #7f7f7f\">                        </span>\n",
       "</pre>\n"
      ],
      "text/plain": [
       "\u001b[2;36m[06/24/24 10:43:31]\u001b[0m\u001b[2;36m \u001b[0m\u001b[32mINFO    \u001b[0m Animation \u001b[32m1\u001b[0m : Partial movie file written in                   \u001b]8;id=72643;file://c:\\Users\\likan\\anaconda3\\lib\\site-packages\\manim\\scene\\scene_file_writer.py\u001b\\\u001b[2mscene_file_writer.py\u001b[0m\u001b]8;;\u001b\\\u001b[2m:\u001b[0m\u001b]8;id=161100;file://c:\\Users\\likan\\anaconda3\\lib\\site-packages\\manim\\scene\\scene_file_writer.py#527\u001b\\\u001b[2m527\u001b[0m\u001b]8;;\u001b\\\n",
       "\u001b[2;36m                    \u001b[0m         \u001b[32m'D:\\Users\\likan\\Desktop\\manim tutorial\\media\\videos\\manim \u001b[0m    \u001b[2m                        \u001b[0m\n",
       "\u001b[2;36m                    \u001b[0m         \u001b[32mtutorial\\720p30\\partial_movie_files\\Exercise3\\2789044632_3578\u001b[0m \u001b[2m                        \u001b[0m\n",
       "\u001b[2;36m                    \u001b[0m         \u001b[32m452479_4067559736.mp4'\u001b[0m                                        \u001b[2m                        \u001b[0m\n"
      ]
     },
     "metadata": {},
     "output_type": "display_data"
    },
    {
     "name": "stderr",
     "output_type": "stream",
     "text": [
      "                                                                                                             \r"
     ]
    },
    {
     "data": {
      "text/html": [
       "<pre style=\"white-space:pre;overflow-x:auto;line-height:normal;font-family:Menlo,'DejaVu Sans Mono',consolas,'Courier New',monospace\"><span style=\"color: #7fbfbf; text-decoration-color: #7fbfbf\">                    </span><span style=\"color: #008000; text-decoration-color: #008000\">INFO    </span> Animation <span style=\"color: #008000; text-decoration-color: #008000\">2</span> : Partial movie file written in                   <a href=\"file://c:\\Users\\likan\\anaconda3\\lib\\site-packages\\manim\\scene\\scene_file_writer.py\" target=\"_blank\"><span style=\"color: #7f7f7f; text-decoration-color: #7f7f7f\">scene_file_writer.py</span></a><span style=\"color: #7f7f7f; text-decoration-color: #7f7f7f\">:</span><a href=\"file://c:\\Users\\likan\\anaconda3\\lib\\site-packages\\manim\\scene\\scene_file_writer.py#527\" target=\"_blank\"><span style=\"color: #7f7f7f; text-decoration-color: #7f7f7f\">527</span></a>\n",
       "<span style=\"color: #7fbfbf; text-decoration-color: #7fbfbf\">                    </span>         <span style=\"color: #008000; text-decoration-color: #008000\">'D:\\Users\\likan\\Desktop\\manim tutorial\\media\\videos\\manim </span>    <span style=\"color: #7f7f7f; text-decoration-color: #7f7f7f\">                        </span>\n",
       "<span style=\"color: #7fbfbf; text-decoration-color: #7fbfbf\">                    </span>         <span style=\"color: #008000; text-decoration-color: #008000\">tutorial\\720p30\\partial_movie_files\\Exercise3\\2789044632_3043</span> <span style=\"color: #7f7f7f; text-decoration-color: #7f7f7f\">                        </span>\n",
       "<span style=\"color: #7fbfbf; text-decoration-color: #7fbfbf\">                    </span>         <span style=\"color: #008000; text-decoration-color: #008000\">94604_1233975537.mp4'</span>                                         <span style=\"color: #7f7f7f; text-decoration-color: #7f7f7f\">                        </span>\n",
       "</pre>\n"
      ],
      "text/plain": [
       "\u001b[2;36m                   \u001b[0m\u001b[2;36m \u001b[0m\u001b[32mINFO    \u001b[0m Animation \u001b[32m2\u001b[0m : Partial movie file written in                   \u001b]8;id=82144;file://c:\\Users\\likan\\anaconda3\\lib\\site-packages\\manim\\scene\\scene_file_writer.py\u001b\\\u001b[2mscene_file_writer.py\u001b[0m\u001b]8;;\u001b\\\u001b[2m:\u001b[0m\u001b]8;id=939850;file://c:\\Users\\likan\\anaconda3\\lib\\site-packages\\manim\\scene\\scene_file_writer.py#527\u001b\\\u001b[2m527\u001b[0m\u001b]8;;\u001b\\\n",
       "\u001b[2;36m                    \u001b[0m         \u001b[32m'D:\\Users\\likan\\Desktop\\manim tutorial\\media\\videos\\manim \u001b[0m    \u001b[2m                        \u001b[0m\n",
       "\u001b[2;36m                    \u001b[0m         \u001b[32mtutorial\\720p30\\partial_movie_files\\Exercise3\\2789044632_3043\u001b[0m \u001b[2m                        \u001b[0m\n",
       "\u001b[2;36m                    \u001b[0m         \u001b[32m94604_1233975537.mp4'\u001b[0m                                         \u001b[2m                        \u001b[0m\n"
      ]
     },
     "metadata": {},
     "output_type": "display_data"
    },
    {
     "data": {
      "text/html": [
       "<pre style=\"white-space:pre;overflow-x:auto;line-height:normal;font-family:Menlo,'DejaVu Sans Mono',consolas,'Courier New',monospace\"><span style=\"color: #7fbfbf; text-decoration-color: #7fbfbf\">                    </span><span style=\"color: #008000; text-decoration-color: #008000\">INFO    </span> Combining to Movie file.                                      <a href=\"file://c:\\Users\\likan\\anaconda3\\lib\\site-packages\\manim\\scene\\scene_file_writer.py\" target=\"_blank\"><span style=\"color: #7f7f7f; text-decoration-color: #7f7f7f\">scene_file_writer.py</span></a><span style=\"color: #7f7f7f; text-decoration-color: #7f7f7f\">:</span><a href=\"file://c:\\Users\\likan\\anaconda3\\lib\\site-packages\\manim\\scene\\scene_file_writer.py#617\" target=\"_blank\"><span style=\"color: #7f7f7f; text-decoration-color: #7f7f7f\">617</span></a>\n",
       "</pre>\n"
      ],
      "text/plain": [
       "\u001b[2;36m                   \u001b[0m\u001b[2;36m \u001b[0m\u001b[32mINFO    \u001b[0m Combining to Movie file.                                      \u001b]8;id=18929;file://c:\\Users\\likan\\anaconda3\\lib\\site-packages\\manim\\scene\\scene_file_writer.py\u001b\\\u001b[2mscene_file_writer.py\u001b[0m\u001b]8;;\u001b\\\u001b[2m:\u001b[0m\u001b]8;id=837616;file://c:\\Users\\likan\\anaconda3\\lib\\site-packages\\manim\\scene\\scene_file_writer.py#617\u001b\\\u001b[2m617\u001b[0m\u001b]8;;\u001b\\\n"
      ]
     },
     "metadata": {},
     "output_type": "display_data"
    },
    {
     "data": {
      "text/html": [
       "<pre style=\"white-space:pre;overflow-x:auto;line-height:normal;font-family:Menlo,'DejaVu Sans Mono',consolas,'Courier New',monospace\"><span style=\"color: #7fbfbf; text-decoration-color: #7fbfbf\">[06/24/24 10:43:32] </span><span style=\"color: #008000; text-decoration-color: #008000\">INFO    </span>                                                               <a href=\"file://c:\\Users\\likan\\anaconda3\\lib\\site-packages\\manim\\scene\\scene_file_writer.py\" target=\"_blank\"><span style=\"color: #7f7f7f; text-decoration-color: #7f7f7f\">scene_file_writer.py</span></a><span style=\"color: #7f7f7f; text-decoration-color: #7f7f7f\">:</span><a href=\"file://c:\\Users\\likan\\anaconda3\\lib\\site-packages\\manim\\scene\\scene_file_writer.py#736\" target=\"_blank\"><span style=\"color: #7f7f7f; text-decoration-color: #7f7f7f\">736</span></a>\n",
       "<span style=\"color: #7fbfbf; text-decoration-color: #7fbfbf\">                    </span>         <span style=\"color: #808000; text-decoration-color: #808000; font-weight: bold\">File</span> ready at <span style=\"color: #008000; text-decoration-color: #008000\">'D:\\Users\\likan\\Desktop\\manim </span>                  <span style=\"color: #7f7f7f; text-decoration-color: #7f7f7f\">                        </span>\n",
       "<span style=\"color: #7fbfbf; text-decoration-color: #7fbfbf\">                    </span>         <span style=\"color: #008000; text-decoration-color: #008000\">tutorial\\media\\videos\\manim tutorial\\720p30\\Exercise3.mp4'</span>    <span style=\"color: #7f7f7f; text-decoration-color: #7f7f7f\">                        </span>\n",
       "<span style=\"color: #7fbfbf; text-decoration-color: #7fbfbf\">                    </span>                                                                       <span style=\"color: #7f7f7f; text-decoration-color: #7f7f7f\">                        </span>\n",
       "</pre>\n"
      ],
      "text/plain": [
       "\u001b[2;36m[06/24/24 10:43:32]\u001b[0m\u001b[2;36m \u001b[0m\u001b[32mINFO    \u001b[0m                                                               \u001b]8;id=654393;file://c:\\Users\\likan\\anaconda3\\lib\\site-packages\\manim\\scene\\scene_file_writer.py\u001b\\\u001b[2mscene_file_writer.py\u001b[0m\u001b]8;;\u001b\\\u001b[2m:\u001b[0m\u001b]8;id=309134;file://c:\\Users\\likan\\anaconda3\\lib\\site-packages\\manim\\scene\\scene_file_writer.py#736\u001b\\\u001b[2m736\u001b[0m\u001b]8;;\u001b\\\n",
       "\u001b[2;36m                    \u001b[0m         \u001b[1;33mFile\u001b[0m ready at \u001b[32m'D:\\Users\\likan\\Desktop\\manim \u001b[0m                  \u001b[2m                        \u001b[0m\n",
       "\u001b[2;36m                    \u001b[0m         \u001b[32mtutorial\\media\\videos\\manim tutorial\\720p30\\Exercise3.mp4'\u001b[0m    \u001b[2m                        \u001b[0m\n",
       "\u001b[2;36m                    \u001b[0m                                                                       \u001b[2m                        \u001b[0m\n"
      ]
     },
     "metadata": {},
     "output_type": "display_data"
    },
    {
     "data": {
      "text/html": [
       "<pre style=\"white-space:pre;overflow-x:auto;line-height:normal;font-family:Menlo,'DejaVu Sans Mono',consolas,'Courier New',monospace\"><span style=\"color: #7fbfbf; text-decoration-color: #7fbfbf\">                    </span><span style=\"color: #008000; text-decoration-color: #008000\">INFO    </span> <span style=\"color: #808000; text-decoration-color: #808000; font-weight: bold\">Rendered</span> Exercise3                                                        <a href=\"file://c:\\Users\\likan\\anaconda3\\lib\\site-packages\\manim\\scene\\scene.py\" target=\"_blank\"><span style=\"color: #7f7f7f; text-decoration-color: #7f7f7f\">scene.py</span></a><span style=\"color: #7f7f7f; text-decoration-color: #7f7f7f\">:</span><a href=\"file://c:\\Users\\likan\\anaconda3\\lib\\site-packages\\manim\\scene\\scene.py#241\" target=\"_blank\"><span style=\"color: #7f7f7f; text-decoration-color: #7f7f7f\">241</span></a>\n",
       "<span style=\"color: #7fbfbf; text-decoration-color: #7fbfbf\">                    </span>         <span style=\"color: #808000; text-decoration-color: #808000; font-weight: bold\">Played</span> <span style=\"color: #008000; text-decoration-color: #008000\">3</span> <span style=\"color: #808000; text-decoration-color: #808000; font-weight: bold\">animations</span>                                                       <span style=\"color: #7f7f7f; text-decoration-color: #7f7f7f\">            </span>\n",
       "</pre>\n"
      ],
      "text/plain": [
       "\u001b[2;36m                   \u001b[0m\u001b[2;36m \u001b[0m\u001b[32mINFO    \u001b[0m \u001b[1;33mRendered\u001b[0m Exercise3                                                        \u001b]8;id=220609;file://c:\\Users\\likan\\anaconda3\\lib\\site-packages\\manim\\scene\\scene.py\u001b\\\u001b[2mscene.py\u001b[0m\u001b]8;;\u001b\\\u001b[2m:\u001b[0m\u001b]8;id=630976;file://c:\\Users\\likan\\anaconda3\\lib\\site-packages\\manim\\scene\\scene.py#241\u001b\\\u001b[2m241\u001b[0m\u001b]8;;\u001b\\\n",
       "\u001b[2;36m                    \u001b[0m         \u001b[1;33mPlayed\u001b[0m \u001b[32m3\u001b[0m \u001b[1;33manimations\u001b[0m                                                       \u001b[2m            \u001b[0m\n"
      ]
     },
     "metadata": {},
     "output_type": "display_data"
    },
    {
     "data": {
      "text/html": [
       "<video src=\"media\\jupyter\\Exercise3@2024-06-24@10-43-32.mp4\" controls autoplay loop style=\"max-width: 60%;\"  >\n",
       "      Your browser does not support the <code>video</code> element.\n",
       "    </video>"
      ],
      "text/plain": [
       "<IPython.core.display.Video object>"
      ]
     },
     "metadata": {},
     "output_type": "display_data"
    }
   ],
   "source": [
    "%%manim -qm Exercise3\n",
    "\n",
    "class Exercise3(Scene):\n",
    "    def construct(self):\n",
    "        circle_red = Circle(color=RED)\n",
    "        circle_green = Circle(color=GREEN)\n",
    "        #Blank 1: define the blue circle\n",
    "        circle_red.shift(LEFT)\n",
    "        #Blank 2: locate it to the right of the green circle\n",
    "\n",
    "        #3 modifications are required here: think about how to let the blue circle move down with the other two\n",
    "        gr = VGroup(circle_red)\n",
    "        gr2 = VGroup(circle_green)\n",
    "        #1\n",
    "        self.add(gr,gr2) #2\n",
    "        self.wait()\n",
    "        gr = gr + gr2 #3\n",
    "        self.play(\n",
    "            gr.animate.shift(DOWN),\n",
    "        )\n",
    "\n",
    "        #2 midifications are required here: think about how to make the blue circle move to the right\n",
    "        gr = gr - gr2 #1\n",
    "        self.play(\n",
    "            gr.animate.shift(LEFT),\n",
    "            gr2.animate.shift(UP),\n",
    "            #2\n",
    "        )"
   ]
  },
  {
   "cell_type": "markdown",
   "metadata": {},
   "source": [
    "### 1.3.2 TransformByGlyphMap\n",
    "Part 3: Doing the transformation by applying the `TransformByGlyphMap` method. This this where the transformations finally take place. The first two arugments indicate that we want to transform from arugment 1 to argument 2. Next, we have to indicate clearly from which element we would like to transform to another. The indices of the elements can be viewed by simply putting a '([], [])' at the third argument place. We use the process of deriving the quadratic formula as an example."
   ]
  },
  {
   "cell_type": "code",
   "execution_count": null,
   "metadata": {},
   "outputs": [],
   "source": [
    "%%manim -qm QuadraticFormula\n",
    "\n",
    "class QuadraticFormula(Scene):\n",
    "\tdef construct(self):\n",
    "\t\texps = [MathTex(\"ax^2 + bx + c = 0\"), MathTex(\"ax^2 + bx = -c\")]\n",
    "\t\tself.play(Write(exps[0]))\n",
    "\t\tself.wait()\n",
    "\t\tself.play(TransformByGlyphMap(exps[0], exps[1], # subtract c\n",
    "\t\t\t([], [])\n",
    "\t\t))"
   ]
  },
  {
   "cell_type": "markdown",
   "metadata": {},
   "source": [
    "You can see that each element is labelled with an index, which indicate their positions in the expressions. In this process, we would like to move the constant c to the right hand of the equation, so we have to do the following operations:\n",
    "1. Moving the constant c to the RHS of the equation.\n",
    "2. Transforming the '+' sign on LHS to the '-' sign on RHS.\n",
    "3. Fading out the '0' on the RHS.\n",
    "The transformation is done by adding the following argument:\n",
    "```python\n",
    "(['index of the element(s) in the first expression'], ['index of the element(s) in the second expression'])\n",
    "```\n",
    "Based on the 3 operations above, the three arguments that we should add to the method should be:\n",
    "```python\n",
    "([6], [7]),\n",
    "([7], [8]),\n",
    "([9], [])\n",
    "```\n",
    "Let us see the final effect of this step."
   ]
  },
  {
   "cell_type": "code",
   "execution_count": null,
   "metadata": {},
   "outputs": [],
   "source": [
    "%%manim -qm Step1\n",
    "\n",
    "class Step1(Scene):\n",
    "\tdef construct(self):\n",
    "\t\texps = [MathTex(\"ax^2 + bx + c = 0\"), MathTex(\"ax^2 + bx = -c\")]\n",
    "\t\tself.play(Write(exps[0]))\n",
    "\t\tself.wait()\n",
    "\t\tself.play(TransformByGlyphMap(exps[0], exps[1], \n",
    "\t\t([6], [7]),\n",
    "\t\t([7], [8]),\n",
    "\t\t([9], [])\n",
    "\t\t))"
   ]
  },
  {
   "cell_type": "markdown",
   "metadata": {},
   "source": [
    "Note that we have to list all of the changes made to the first expression. For instance, if we remove the '([9], [])' in the code above, you will see that no transformation occurs to the expressions, since the program does not know how to deal with the '0' element, which appears in the first expression but not in the second.\n",
    "\n",
    "The following code is the final version of how the quadratic formula is derived."
   ]
  },
  {
   "cell_type": "code",
   "execution_count": null,
   "metadata": {},
   "outputs": [],
   "source": [
    "%%manim -qm QuadraticFormula\n",
    "\n",
    "class QuadraticFormula(Scene):\n",
    "\tdef construct(self):\n",
    "\t\texps = [\n",
    "            MathTex(\"ax^2 + bx + c = 0\"),\n",
    "            MathTex(\"ax^2 + bx = -c\"),\n",
    "            MathTex(\"x^2 + {b \\\\over a}x = - {c \\\\over a}\"),\n",
    "            MathTex(\"x^2 + {b \\\\over a}x + \\\\left({b \\\\over 2a}\\\\right)^2 = - {c \\\\over a} + \\\\left({b \\\\over 2a}\\\\right)^2\"),\n",
    "\t\t\tMathTex(\"x^2 + {b \\\\over a}x + \\\\left({b \\\\over 2a}\\\\right)^2 = \\\\left({b \\\\over 2a}\\\\right)^2 - {c \\\\over a}\"),\n",
    "            MathTex(\"x^2 + {b \\\\over a}x + \\\\left({b \\\\over 2a}\\\\right)^2 = {b^2 \\\\over 4a^2} - {c \\\\over a}\"),\n",
    "            MathTex(\"x^2 + {b \\\\over a}x + \\\\left({b \\\\over 2a}\\\\right)^2 = {b^2 \\\\over 4a^2} - {4ac \\\\over 4a^2}\"),\n",
    "            MathTex(\"x^2 + {b \\\\over a}x + \\\\left({b \\\\over 2a}\\\\right)^2 = {b^2 - 4ac \\\\over 4a^2}\"),\n",
    "\t\t\tMathTex(\"\\\\left( x + {b \\\\over 2a} \\\\right)^2 = {b^2 - 4ac \\\\over 4a^2}\"),\n",
    "            MathTex(\"x + {b \\\\over 2a} = \\\\pm \\\\sqrt{ {b^2 - 4ac \\\\over 4a^2} }\"),\n",
    "            MathTex(\"x + {b \\\\over 2a} = \\\\pm { \\\\sqrt{ b^2 - 4ac } \\\\over \\\\sqrt{ 4a^2 } }\"),\n",
    "            MathTex(\"x + {b \\\\over 2a} = \\\\pm { \\\\sqrt{ b^2 - 4ac } \\\\over 2a } }\"),\n",
    "\t\t\tMathTex(\"x = - {b \\\\over 2a} \\\\pm { \\\\sqrt{ b^2 - 4ac } \\\\over 2a } }\"),\n",
    "            MathTex(\"x = { - b \\\\pm \\\\sqrt{ b^2 - 4ac } \\\\over 2a }\"),\n",
    "        ]\n",
    "\n",
    "\t\tself.play(Write(exps[0]))\n",
    "\t\tself.wait()\n",
    "\t\tself.play(TransformByGlyphMap(exps[0], exps[1], # subtract c\n",
    "\t\t\t([6], [7]),\n",
    "\t\t\t([7], [8]),\n",
    "\t\t\t([9], [])\n",
    "\t\t))\n",
    "\t\tself.wait()\n",
    "\t\tself.play(TransformByGlyphMap(exps[1], exps[2], # divide by a\n",
    "\t\t\t([0], [5,11]),\n",
    "\t\t\t([], [4,10]),\n",
    "\t\t))\n",
    "\t\tself.wait()\n",
    "\t\tself.play(TransformByGlyphMap(exps[2], exps[3], # complete the square\n",
    "\t\t\t([], [*ir(7,14)]),\n",
    "\t\t\t([], [*ir(20,27)]),\n",
    "\t\t))\n",
    "\t\tself.wait()\n",
    "\t\tself.play(TransformByGlyphMap(exps[3], exps[4], # rhs reorder\n",
    "\t\t\t([*ir(21,27)], [*ir(16,22)]),\n",
    "\t\t\t([*ir(16,19)], [*ir(23,26)]),\n",
    "\t\t\t([20], [])\n",
    "\t\t))\n",
    "\t\tself.wait()\n",
    "\t\tself.play(TransformByGlyphMap(exps[4], exps[5], # rhs distribute square\n",
    "\t\t\t([22], [17]),\n",
    "\t\t\t([22], [21]),\n",
    "\t\t\t([22,19], [19]),\n",
    "\t\t\t([16,21], [])\n",
    "\t\t))\n",
    "\t\tself.wait()\n",
    "\t\tself.play(TransformByGlyphMap(exps[5], exps[6], # rhs common denominator\n",
    "\t\t\t([], [23,24,27,29]),\n",
    "\t\t))\n",
    "\t\tself.wait()\n",
    "\t\tself.play(TransformByGlyphMap(exps[6], exps[7], # rhs combine fractions\n",
    "\t\t\t([23,24,25], [19,20,21]),\n",
    "\t\t\t([22], [18]),\n",
    "\t\t\t([18], [22]),\n",
    "\t\t\t([26], [22]),\n",
    "\t\t\t([19,20,21], [23,24,25]),\n",
    "\t\t\t([27,28,29], [23,24,25])\n",
    "\t\t))\n",
    "\t\tself.wait()\n",
    "\t\tself.play(TransformByGlyphMap(exps[7], exps[8], # lhs rewrite\n",
    "\t\t\t([0,6], [1]),\n",
    "\t\t\t([2,7], [2]),\n",
    "\t\t\t([3,4,5], [3,4,6]),\n",
    "\t\t\t([9,10,11,12], [3,4,5,6]),\n",
    "\t\t\t([1,14], [8]),\n",
    "\t\t\t([8], [0]),\n",
    "\t\t\t([13], [7]),\n",
    "\t\t))\n",
    "\t\tself.wait()\n",
    "\t\tself.play(TransformByGlyphMap(exps[8], exps[9], # square root\n",
    "\t\t\t([8], [7,8,9]),\n",
    "\t\t\t([0,7], []),\n",
    "\t\t))\n",
    "\t\tself.wait()\n",
    "\t\tself.play(TransformByGlyphMap(exps[9], exps[10], # rhs distribute square root\n",
    "\t\t\t([8], [8,17]),\n",
    "\t\t\t([9], [9,18]),\n",
    "\t\t))\n",
    "\t\tself.wait()\n",
    "\t\tself.play(TransformByGlyphMap(exps[10], exps[11], # rhs simplify denominator\n",
    "\t\t\t([17,18], []),\n",
    "\t\t\t([19], [17]),\n",
    "\t\t\t([20,21], [18])\n",
    "\t\t))\n",
    "\t\tself.wait()\n",
    "\t\tself.play(TransformByGlyphMap(exps[11], exps[12], # final subtract\n",
    "\t\t\t([*ir(1,5)], [*ir(2,6)]),\n",
    "\t\t))\n",
    "\t\tself.wait()\n",
    "\t\tself.play(TransformByGlyphMap(exps[12], exps[13], # combine fractions\n",
    "\t\t\t([4], [13]),\n",
    "\t\t\t([16], [13]),\n",
    "\t\t\t([5,6], [14,15]),\n",
    "\t\t\t([17,18], [14,15])\n",
    "\t\t))\n",
    "\t\tself.wait()\n",
    "\t\tself.play(Circumscribe(exps[-1]))"
   ]
  },
  {
   "cell_type": "markdown",
   "metadata": {},
   "source": [
    "Exercise: you have seen how we used transformation technique to show how quadratic formula is derived, now, please complete the following code to show how to solve a simple equation. The main structure is already given, you only need to fill in the blanks to finish the transformations."
   ]
  },
  {
   "cell_type": "code",
   "execution_count": null,
   "metadata": {},
   "outputs": [],
   "source": [
    "%%manim -qm Exercise4\n",
    "\n",
    "class Exercise4(Scene):\n",
    "    def construct(self):\n",
    "        exps = [\n",
    "            MathTex('ax + b = 0'),\n",
    "            MathTex('ax = -b'),\n",
    "            MathTex('x = - {b \\\\over a}')\n",
    "        ]\n",
    "        self.play(Write(exps[0]))\n",
    "        self.wait()\n",
    "        self.play(TransformByGlyphMap(exps[0], exps[1], # subtract b\n",
    "\t\t\t([], []),\n",
    "            ([], []),\n",
    "            ([], [])\n",
    "\t\t))\n",
    "        self.wait()\n",
    "        self.play(TransformByGlyphMap(exps[1], exps[2], # devided by a\n",
    "\t\t\t([], []),\n",
    "\t\t\t([], [])\n",
    "\t\t))\n",
    "        self.wait()\n",
    "        self.play(Circumscribe(exps[-1]))"
   ]
  },
  {
   "cell_type": "markdown",
   "metadata": {},
   "source": [
    "Exercise: please complete the following code to show how to solve a simple quadratic equation. The main structure is already given, you only need to fill in the blanks to finish the transformations."
   ]
  },
  {
   "cell_type": "code",
   "execution_count": null,
   "metadata": {},
   "outputs": [],
   "source": [
    "%%manim -qm Exercise5\n",
    "\n",
    "class Exercise5(Scene):\n",
    "\tdef construct(self):\n",
    "\t\texps = [\n",
    "\t\t\tMathTex(\"x^{2} + 3 = 7\"),\n",
    "\t\t\tMathTex(\"x^{2} = 7 - 3\"),\n",
    "\t\t\tMathTex(\"x^{2} = 4\"),\n",
    "\t\t\tMathTex(\"x = \\\\pm 2\")\n",
    "\t\t ]\n",
    "\t\tself.add(exps[0])\n",
    "\t\tself.play(TransformByGlyphMap(exps[0],exps[1],\n",
    "\t\t\t([2], [4]),\n",
    "\t\t\t([3], [5])\n",
    "\t\t))\n",
    "\t\tself.wait()\n",
    "\t\tself.play(TransformByGlyphMap(exps[1],exps[2],\n",
    "\t\t\t([3,4,5], [3])\n",
    "\t\t))\n",
    "\t\tself.wait()\n",
    "\t\tself.play(TransformByGlyphMap(exps[2],exps[3],\n",
    "\t\t\t([1], [2]),\n",
    "\t\t\t([3], [3])\n",
    "\t\t))\n",
    "\t\tself.wait()\n",
    "\t\tself.play(Circumscribe(exps[-1]))"
   ]
  },
  {
   "cell_type": "markdown",
   "metadata": {},
   "source": [
    "## 1.4 Highlight\n",
    "### 1.4.1 Basic Highlighting Methods\n",
    "You may have already noticed that the code at the bottom of the previous example gives a highlight to our result. Different highlighting skills are also important in Manim animations. Apart from the `Circumscribe` method we used in the previous example, `Indicate`, `Wiggle`, `Flash` are also frequently used method. Their usage are almost the same, we use the `Indicate` method as an example."
   ]
  },
  {
   "cell_type": "code",
   "execution_count": null,
   "metadata": {},
   "outputs": [],
   "source": [
    "%%manim -qm UsingIndicate\n",
    "\n",
    "class UsingIndicate(Scene):\n",
    "    def construct(self):\n",
    "        tex = Tex(\"Surprise!\").scale(3)\n",
    "        self.play(Indicate(tex))\n",
    "        self.wait()"
   ]
  },
  {
   "cell_type": "markdown",
   "metadata": {},
   "source": [
    "But sometimes, we do not want to highlight the entire sentence, instead we would like to highlight only a few words or elements. This is similar to what we have learnt on how to indicate the transformation elements, we now need to give indices to our sentences, and tell the program which indices we would like to highlight.\n",
    "\n",
    "One thing differnet from the previous example is that we have to see the indices of our sentences by using the `index_labels` method."
   ]
  },
  {
   "cell_type": "code",
   "execution_count": null,
   "metadata": {},
   "outputs": [],
   "source": [
    "%%manim -qm labeling\n",
    "\n",
    "class labeling(Scene):\n",
    "    def construct(self):        \n",
    "        eq1 = MathTex('\\sum_{k=1}^{n}f(c_k)\\Delta x', font_size = 60)\n",
    "        self.add(eq1, index_labels(eq1[0], color=RED).shift(UP/2))"
   ]
  },
  {
   "cell_type": "markdown",
   "metadata": {},
   "source": [
    "Note that the first argument we gave to `index_labels` is eq[0], this is the  index of the equation inside MathTex. For example,\n",
    "```python\n",
    "Eq = MathTex(“x =3”, “z=4”)\n",
    "Eq[0][-1]\n",
    "```\n",
    "This will target number 3 .\n",
    "\n",
    "And now, we can specify which part we would like to highlight in the animation by indicating the indices of the equation."
   ]
  },
  {
   "cell_type": "code",
   "execution_count": null,
   "metadata": {},
   "outputs": [],
   "source": [
    "%%manim -qm eq\n",
    "\n",
    "class eq(Scene):\n",
    "    def construct(self):\n",
    "\n",
    "        EQ4 = MathTex(r\"\\sum_{k=1}^{n}f(c_k)\\Delta x\", font_size = 60)\n",
    "        self.play(Write(EQ4))\n",
    "        self.wait(3)\n",
    "        for start,end in [(1,2),(2,5),(0,1),(7,9),(10,12)]:\n",
    "            self.play(Indicate(EQ4[0][start:end]))\n",
    "            self.wait(1)"
   ]
  },
  {
   "cell_type": "markdown",
   "metadata": {},
   "source": [
    "### 1.4.2 Self Discovery\n",
    "You have seen how we use `Indicate` method to make highlights to the texts. Now, please try the rest of the highlighting methods yourself, and test their effects."
   ]
  }
 ],
 "metadata": {
  "kernelspec": {
   "display_name": "base",
   "language": "python",
   "name": "python3"
  },
  "language_info": {
   "codemirror_mode": {
    "name": "ipython",
    "version": 3
   },
   "file_extension": ".py",
   "mimetype": "text/x-python",
   "name": "python",
   "nbconvert_exporter": "python",
   "pygments_lexer": "ipython3",
   "version": "3.9.13"
  }
 },
 "nbformat": 4,
 "nbformat_minor": 2
}
